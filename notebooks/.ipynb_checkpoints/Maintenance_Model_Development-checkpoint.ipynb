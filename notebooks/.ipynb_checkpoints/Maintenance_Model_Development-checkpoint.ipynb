{
 "cells": [
  {
   "cell_type": "markdown",
   "metadata": {},
   "source": [
    "# Predictive Maintenance Model Development\n",
    "\n",
    "This notebook demonstrates data exploration, model training, and evaluation for predicting equipment failure using sensor data. It also shows how to preprocess data and analyze model performance."
   ]
  },
  {
   "cell_type": "code",
   "execution_count": null,
   "metadata": {},
   "outputs": [],
   "source": [
    "!pip install pandas numpy matplotlib scikit-learn"
   ]
  },
  {
   "cell_type": "markdown",
   "metadata": {},
   "source": [
    "## Data Exploration and Preprocessing"
   ]
  },
  {
   "cell_type": "code",
   "execution_count": 1,
   "metadata": {},
   "outputs": [
    {
     "name": "stdout",
     "output_type": "stream",
     "text": [
      "   unit_number  time_in_cycles  op_setting_1  op_setting_2  op_setting_3  \\\n",
      "0            1               1       -0.0007       -0.0004         100.0   \n",
      "1            1               2        0.0019       -0.0003         100.0   \n",
      "2            1               3       -0.0043        0.0003         100.0   \n",
      "3            1               4        0.0007        0.0000         100.0   \n",
      "4            1               5       -0.0019       -0.0002         100.0   \n",
      "\n",
      "   sensor_1  sensor_2  sensor_3  sensor_4  sensor_5  ...  sensor_14  \\\n",
      "0    518.67    641.82   1589.70   1400.60     14.62  ...    8138.62   \n",
      "1    518.67    642.15   1591.82   1403.14     14.62  ...    8131.49   \n",
      "2    518.67    642.35   1587.99   1404.20     14.62  ...    8133.23   \n",
      "3    518.67    642.35   1582.79   1401.87     14.62  ...    8133.83   \n",
      "4    518.67    642.37   1582.85   1406.22     14.62  ...    8133.80   \n",
      "\n",
      "   sensor_15  sensor_16  sensor_17  sensor_18  sensor_19  sensor_20  \\\n",
      "0     8.4195       0.03        392       2388      100.0      39.06   \n",
      "1     8.4318       0.03        392       2388      100.0      39.00   \n",
      "2     8.4178       0.03        390       2388      100.0      38.95   \n",
      "3     8.3682       0.03        392       2388      100.0      38.88   \n",
      "4     8.4294       0.03        393       2388      100.0      38.90   \n",
      "\n",
      "   sensor_21     scenario    RUL  \n",
      "0    23.4190  train_FD001  303.0  \n",
      "1    23.4236  train_FD001  302.0  \n",
      "2    23.3442  train_FD001  301.0  \n",
      "3    23.3739  train_FD001  300.0  \n",
      "4    23.4044  train_FD001  299.0  \n",
      "\n",
      "[5 rows x 28 columns]\n"
     ]
    },
    {
     "data": {
      "image/png": "[encoded data removed]",
      "text/plain": [
       "<Figure size 720x360 with 1 Axes>"
      ]
     },
     "metadata": {
      "needs_background": "light"
     },
     "output_type": "display_data"
    }
   ],
   "source": [
    "import pandas as pd\n",
    "import matplotlib.pyplot as plt\n",
    "\n",
    "# Load sample sensor data (create a sample CSV if not available)\n",
    "data = pd.read_csv('../data/CMAPSSData/sensor_data.csv')\n",
    "print(data.head())\n",
    "\n",
    "# Plot a few sensor readings over time\n",
    "# Subsample 1000 rows (or another reasonable number)\n",
    "sample_df = data.sample(1000, random_state=42)\n",
    "\n",
    "plt.figure(figsize=(10, 5))\n",
    "plt.plot(sample_df['time_in_cycles'], sample_df['sensor_2'], 'o', ms=2, label='Sensor 2')\n",
    "plt.xlabel('Time in Cycles')\n",
    "plt.ylabel('Sensor 2 Reading')\n",
    "plt.legend()\n",
    "plt.show()"
   ]
  },
  {
   "cell_type": "markdown",
   "metadata": {},
   "source": [
    "## Model Training\n",
    "\n",
    "Run the training script (see `model/train.py`) to train the predictive maintenance model. Adjust hyperparameters in `data_pipeline/config.yaml` as needed."
   ]
  },
  {
   "cell_type": "code",
   "execution_count": 2,
   "metadata": {},
   "outputs": [
    {
     "name": "stdout",
     "output_type": "stream",
     "text": [
      "Epoch 1/10, Loss: 40262.9378\n",
      "Epoch 2/10, Loss: 24215.3638\n",
      "Epoch 3/10, Loss: 14433.0745\n",
      "Epoch 4/10, Loss: 10185.2497\n",
      "Epoch 5/10, Loss: 9463.7474\n",
      "Epoch 6/10, Loss: 9449.9726\n",
      "Epoch 7/10, Loss: 9452.5446\n",
      "Epoch 8/10, Loss: 9452.2758\n",
      "Epoch 9/10, Loss: 9450.5895\n",
      "Epoch 10/10, Loss: 9451.3339\n",
      "Model saved to model/lstm_model.pth\n"
     ]
    }
   ],
   "source": [
    "# You can run the training script from the notebook using the system command if desired\n",
    "!python ../model/train.py"
   ]
  },
  {
   "cell_type": "markdown",
   "metadata": {},
   "source": [
    "## Model Evaluation\n",
    "\n",
    "Evaluate the trained model (see `model/evaluate.py`) and plot performance metrics."
   ]
  },
  {
   "cell_type": "code",
   "execution_count": 3,
   "metadata": {},
   "outputs": [
    {
     "name": "stdout",
     "output_type": "stream",
     "text": [
      "Mean Squared Error on test data: 8134.7681\n"
     ]
    },
    {
     "name": "stderr",
     "output_type": "stream",
     "text": [
      "C:\\Users\\moham\\AppData\\Local\\Programs\\Python\\Python39\\lib\\site-packages\\torch\\nn\\modules\\loss.py:536: UserWarning: Using a target size (torch.Size([1])) that is different to the input size (torch.Size([])). This will likely lead to incorrect results due to broadcasting. Please ensure they have the same size.\n",
      "  return F.mse_loss(input, target, reduction=self.reduction)\n"
     ]
    }
   ],
   "source": [
    "!python ../model/evaluate.py ../model/lstm_model.pth ../data/CMAPSSData/sensor_test_data.csv"
   ]
  },
  {
   "cell_type": "markdown",
   "metadata": {},
   "source": [
    "## Conclusion\n",
    "\n",
    "This notebook demonstrates an end-to-end workflow for predictive maintenance, including data exploration, model training, and evaluation. The model is then deployed via a REST API for real-time predictions."
   ]
  }
 ],
 "metadata": {
  "kernelspec": {
   "display_name": "Python 3 (ipykernel)",
   "language": "python",
   "name": "python3"
  },
  "language_info": {
   "codemirror_mode": {
    "name": "ipython",
    "version": 3
   },
   "file_extension": ".py",
   "mimetype": "text/x-python",
   "name": "python",
   "nbconvert_exporter": "python",
   "pygments_lexer": "ipython3",
   "version": "3.9.2"
  }
 },
 "nbformat": 4,
 "nbformat_minor": 2
}
